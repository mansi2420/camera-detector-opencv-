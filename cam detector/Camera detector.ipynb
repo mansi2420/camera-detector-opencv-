{
 "cells": [
  {
   "cell_type": "code",
   "execution_count": 1,
   "metadata": {},
   "outputs": [],
   "source": [
    "import cv2\n",
    "import numpy"
   ]
  },
  {
   "cell_type": "code",
   "execution_count": 2,
   "metadata": {},
   "outputs": [],
   "source": [
    "cap=cv2.VideoCapture(0)\n",
    "\n",
    "face_cascade=cv2.CascadeClassifier(r\"C:\\Users\\Mansi Panchal\\Desktop\\py\\Pythonnn\\cam detector\\haarcascade_frontalface_default.xml\")\n",
    "eye_cascade=cv2.CascadeClassifier(r\"C:\\Users\\Mansi Panchal\\Desktop\\py\\Pythonnn\\cam detector\\haarcascade_eye.xml\")"
   ]
  },
  {
   "cell_type": "code",
   "execution_count": 3,
   "metadata": {},
   "outputs": [],
   "source": [
    "while True:\n",
    "    _, img=cap.read()\n",
    "    \n",
    "    gray= cv2.cvtColor(img, cv2.COLOR_BGR2GRAY) #will convert rgb image to grayscale\n",
    "    \n",
    "    face = face_cascade.detectMultiScale(gray,2.3,4) \n",
    "    \n",
    "    for(x,y,w,h) in face:\n",
    "        cv2.rectangle(img,(x,y),(x+w,y+h),(0,255,0))\n",
    "        cv2.putText(img,\"Face\",(x,y),cv2.FONT_HERSHEY_COMPLEX,0.5,(250,250,250),2)\n",
    "    \n",
    "    eyes = eye_cascade.detectMultiScale(gray,2.3,4) \n",
    "    \n",
    "    for(x1,y1,w1,h1) in eyes:\n",
    "        cv2.rectangle(img,(x1,y1),(x1+w1,y1+h1),(0,0,255))\n",
    "        cv2.putText(img,\"Eyes\",(x1,y1),cv2.FONT_HERSHEY_COMPLEX,0.5,(250,250,250),2)\n",
    "    \n",
    "    \n",
    "    \n",
    "    cv2.imshow('img',img)\n",
    "    \n",
    "    if cv2.waitKey(1)==ord('q'):\n",
    "        break\n",
    "cap.release()\n",
    "cv2.destroyAllWindows()"
   ]
  },
  {
   "cell_type": "code",
   "execution_count": null,
   "metadata": {},
   "outputs": [],
   "source": []
  }
 ],
 "metadata": {
  "kernelspec": {
   "display_name": "Python 3",
   "language": "python",
   "name": "python3"
  },
  "language_info": {
   "codemirror_mode": {
    "name": "ipython",
    "version": 3
   },
   "file_extension": ".py",
   "mimetype": "text/x-python",
   "name": "python",
   "nbconvert_exporter": "python",
   "pygments_lexer": "ipython3",
   "version": "3.8.5"
  }
 },
 "nbformat": 4,
 "nbformat_minor": 4
}
